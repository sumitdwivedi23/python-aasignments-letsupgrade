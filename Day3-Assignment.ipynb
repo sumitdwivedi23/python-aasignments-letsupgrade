{
 "cells": [
  {
   "cell_type": "code",
   "execution_count": 15,
   "metadata": {},
   "outputs": [
    {
     "name": "stdout",
     "output_type": "stream",
     "text": [
      "Enter a number: 45\n",
      "The sum is 1035\n"
     ]
    }
   ],
   "source": [
    "    num = int(input(\"Enter a number: \"))  \n",
    "      \n",
    "    if num < 0:  \n",
    "        print(\"Enter a positive number\")  \n",
    "    else:  \n",
    "        sum = 0  \n",
    "    \n",
    "        while(num > 0):  \n",
    "            sum += num  \n",
    "            num -= 1  \n",
    "        print(\"The sum is\",sum)  "
   ]
  },
  {
   "cell_type": "markdown",
   "metadata": {},
   "source": [
    "# Python program to check prime no"
   ]
  },
  {
   "cell_type": "code",
   "execution_count": 23,
   "metadata": {},
   "outputs": [
    {
     "name": "stdout",
     "output_type": "stream",
     "text": [
      "Enter a number: 5\n",
      "5 is a prime number\n"
     ]
    }
   ],
   "source": [
    "    num = int(input(\"Enter a number: \"))  \n",
    "      \n",
    "    if num > 1:  \n",
    "        for i in range(2,num):  \n",
    "            if (num % i) == 0:  \n",
    "                print(num,\"is not a prime number\")  \n",
    "             \n",
    "                break  \n",
    "        else:  \n",
    "            print(num,\"is a prime number\")  \n",
    "             \n",
    "    else:  \n",
    "        print(num,\"is not a prime number\")  "
   ]
  },
  {
   "cell_type": "code",
   "execution_count": null,
   "metadata": {},
   "outputs": [],
   "source": []
  }
 ],
 "metadata": {
  "kernelspec": {
   "display_name": "Python 3",
   "language": "python",
   "name": "python3"
  },
  "language_info": {
   "codemirror_mode": {
    "name": "ipython",
    "version": 3
   },
   "file_extension": ".py",
   "mimetype": "text/x-python",
   "name": "python",
   "nbconvert_exporter": "python",
   "pygments_lexer": "ipython3",
   "version": "3.7.6"
  }
 },
 "nbformat": 4,
 "nbformat_minor": 4
}
