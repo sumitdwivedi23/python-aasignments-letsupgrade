{
 "cells": [
  {
   "cell_type": "code",
   "execution_count": 11,
   "metadata": {},
   "outputs": [
    {
     "name": "stdout",
     "output_type": "stream",
     "text": [
      "The original string is : what we think we become; we are python programmers\n",
      "The substring to find : we\n",
      "The start indices of the substrings are : [5, 14, 25]\n"
     ]
    }
   ],
   "source": [
    "\n",
    "test_str = \"what we think we become; we are python programmers\"\n",
    "   \n",
    "test_sub = \"we\"\n",
    "    \n",
    "print(\"The original string is : \" + test_str) \n",
    "    \n",
    "print(\"The substring to find : \" + test_sub) \n",
    "  \n",
    "res = [i for i in range(len(test_str)) if test_str.startswith(test_sub, i)] \n",
    "  \n",
    "# printing result  \n",
    "print(\"The start indices of the substrings are : \" + str(res)) "
   ]
  },
  {
   "cell_type": "code",
   "execution_count": 15,
   "metadata": {},
   "outputs": [
    {
     "name": "stdout",
     "output_type": "stream",
     "text": [
      "False\n",
      "True\n"
     ]
    }
   ],
   "source": [
    "str1 = \"THIS is string example....wow!!!\"\n",
    "print(str1.islower())\n",
    "\n",
    "str1 = \"this is string example....wow!!!\"\n",
    "print(str1.islower())"
   ]
  },
  {
   "cell_type": "code",
   "execution_count": 16,
   "metadata": {},
   "outputs": [
    {
     "name": "stdout",
     "output_type": "stream",
     "text": [
      "True\n",
      "False\n"
     ]
    }
   ],
   "source": [
    "str = \"THIS IS STRING EXAMPLE....WOW!!!\"\n",
    "print(str.isupper())\n",
    "\n",
    "str = \"THIS is string example....wow!!!\"\n",
    "print(str.isupper())"
   ]
  },
  {
   "cell_type": "code",
   "execution_count": null,
   "metadata": {},
   "outputs": [],
   "source": []
  }
 ],
 "metadata": {
  "kernelspec": {
   "display_name": "Python 3",
   "language": "python",
   "name": "python3"
  },
  "language_info": {
   "codemirror_mode": {
    "name": "ipython",
    "version": 3
   },
   "file_extension": ".py",
   "mimetype": "text/x-python",
   "name": "python",
   "nbconvert_exporter": "python",
   "pygments_lexer": "ipython3",
   "version": "3.7.6"
  }
 },
 "nbformat": 4,
 "nbformat_minor": 4
}
