{
 "cells": [
  {
   "cell_type": "code",
   "execution_count": 14,
   "metadata": {},
   "outputs": [
    {
     "name": "stdout",
     "output_type": "stream",
     "text": [
      "Original dictionary is : \n",
      "{21: 'FTP', 22: 'SSH', 23: 'telnet', 80: 'http'}\n",
      "\n",
      "Dictionary after swapping is :  \n",
      "keys: values\n",
      "FTP  : [21]\n",
      "SSH  : [22]\n",
      "telnet  : [23]\n",
      "http  : [80]\n"
     ]
    }
   ],
   "source": [
    "#question1:\n",
    "\n",
    "port1 = {21:\"FTP\",22:\"SSH\",23:\"telnet\",80:\"http\"} \n",
    "  \n",
    "print (\"Original dictionary is : \") \n",
    "print(port1)  \n",
    "  \n",
    "print() \n",
    "new_dict = {} \n",
    "for key, value in port1.items(): \n",
    "    if value in new_dict: \n",
    "        new_dict[value].append(key) \n",
    "    else: \n",
    "        new_dict[value]=[key] \n",
    "print (\"Dictionary after swapping is :  \")  \n",
    "print(\"keys: values\") \n",
    "for i in new_dict: \n",
    "    print(i, \" :\", new_dict[i]) \n"
   ]
  },
  {
   "cell_type": "code",
   "execution_count": 15,
   "metadata": {},
   "outputs": [
    {
     "data": {
      "text/plain": [
       "[3, 4, 5]"
      ]
     },
     "execution_count": 15,
     "metadata": {},
     "output_type": "execute_result"
    }
   ],
   "source": [
    "#question2:\n",
    "\n",
    "li = [(1, 2), (3,4), (5,6), (4,5)]\n",
    "[sum(tup) for tup in li]\n",
    "[3, 4, 5]"
   ]
  },
  {
   "cell_type": "code",
   "execution_count": 16,
   "metadata": {},
   "outputs": [
    {
     "name": "stdout",
     "output_type": "stream",
     "text": [
      "The original list:  [(1, 2, 3), (1, 2), ['a', 'hit', 'less']]\n",
      "The list after removing nesting:  [1, 2, 3, 1, 2, 'a', 'hit', 'less']\n"
     ]
    }
   ],
   "source": [
    "#question3:\n",
    "\n",
    "l = [(1,2,3),(1,2),['a','hit','less']] \n",
    "  \n",
    "output = [] \n",
    "  \n",
    "def reemovNestings(l): \n",
    "    for i in l: \n",
    "        if type(i) == list or type(i)==tuple: \n",
    "            reemovNestings(i) \n",
    "        else: \n",
    "            output.append(i) \n",
    "  \n",
    "\n",
    "print ('The original list: ', l) \n",
    "reemovNestings(l) \n",
    "print ('The list after removing nesting: ', output) \n"
   ]
  },
  {
   "cell_type": "code",
   "execution_count": null,
   "metadata": {},
   "outputs": [],
   "source": []
  }
 ],
 "metadata": {
  "kernelspec": {
   "display_name": "Python 3",
   "language": "python",
   "name": "python3"
  },
  "language_info": {
   "codemirror_mode": {
    "name": "ipython",
    "version": 3
   },
   "file_extension": ".py",
   "mimetype": "text/x-python",
   "name": "python",
   "nbconvert_exporter": "python",
   "pygments_lexer": "ipython3",
   "version": "3.7.6"
  }
 },
 "nbformat": 4,
 "nbformat_minor": 4
}
